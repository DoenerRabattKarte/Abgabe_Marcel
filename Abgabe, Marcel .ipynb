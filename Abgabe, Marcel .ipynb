{
 "cells": [
  {
   "cell_type": "code",
   "execution_count": 1,
   "id": "fa693108-372d-4deb-9d39-99884d241f2c",
   "metadata": {
    "tags": []
   },
   "outputs": [],
   "source": [
    "def search_for_rxlr(seq, desc):\n",
    "    #print(seq)\n",
    "    #print(desc)\n",
    "    seq_rxlr = seq[:101] # RXLR Motiv soll in den ersten 100 AS sein.\n",
    "    rxlr_index = -1\n",
    "    rxlr = []\n",
    "    motiv2 =[]\n",
    "    for index, letter in enumerate(seq_rxlr):\n",
    "        rxlr.append(letter)\n",
    "        if len(rxlr) == 5: # Untersuchen von genau 4 AS\n",
    "            rxlr.pop(0)\n",
    "            if rxlr[0]==\"R\":\n",
    "                if rxlr[2] == \"L\" and rxlr[3]==\"R\":\n",
    "                    #print(rxlr)\n",
    "                    rxlr_index = index # Wenn Motiv vorhanden, gibt index aus.\n",
    "    if rxlr_index == -1: # sonst falsch\n",
    "        return False\n",
    "    seqSelection = seq[rxlr_index:rxlr_index+45] # Ab RXLR, untersuchen des 2. Motivs. Dies soll sich in den folgenden 40 AS befinden.\n",
    "    for letter in seqSelection:\n",
    "        motiv2.append(letter)\n",
    "        if len(motiv2) == 4:\n",
    "            motiv2.pop(0)\n",
    "            if motiv2[0]==\"E\" or motiv2[0]==\"D\": # 2.Motiv soll E/D gefolgt von E/D gefolgt von K/R sein.\n",
    "                if motiv2[1]==\"E\" or motiv2[1]==\"D\":\n",
    "                    if motiv2[2]==\"K\" or motiv2[2]==\"R\":\n",
    "                        #print(motiv2)\n",
    "                        \n",
    "                        with open(\"pot.Sequenzen.fa\", \"a\") as out:#Datei vor ausführen löschen\n",
    "                            out.write(desc)\n",
    "                            out.write(\"\\n\")\n",
    "                            out.write(seq)\n",
    "                            out.write(\"\\n\")\n",
    "                        return True\n",
    "                        \n",
    "    return False"
   ]
  },
  {
   "cell_type": "code",
   "execution_count": 2,
   "id": "737b541e-6787-4a34-943f-00682566c464",
   "metadata": {},
   "outputs": [
    {
     "name": "stdout",
     "output_type": "stream",
     "text": [
      "448  so viele rxlr gene sind enthalnte\n",
      "151015\n"
     ]
    }
   ],
   "source": [
    "x = 0\n",
    "count = 0\n",
    "seq=\"\"\n",
    "anzahl=0 \n",
    "desc=\"\" #Beschreibung der Sequenz\n",
    "with open(\"Seqs.fa\") as my_file: #zu untersuchende Datei\n",
    "    for line in my_file:\n",
    "        count = count+1\n",
    "        if not line.startswith(\">\"): #Prüfen ob es sich in einer zeile um die Beschreibung oder die Sequenz handelt. Wenn Sequenz, anhängen an bereits vorhandene Zeile/Sequenz\n",
    "            seq=seq + line.rstrip()\n",
    "            \n",
    "            #print(line.rstrip())\n",
    "        elif line.startswith(\">\"): #wenn es sich um die Beschreibung handelt, wird die über mehrere Zeilen aufgebaute Sequenz gelöscht.\n",
    "            if search_for_rxlr(seq, desc):\n",
    "                anzahl=anzahl+1\n",
    "            seq=\"\"\n",
    "            desc = line.rstrip()\n",
    "            \n",
    "            \n",
    "    print(anzahl, \" so viele rxlr gene sind enthalten\")\n",
    "    print(count)"
   ]
  },
  {
   "cell_type": "code",
   "execution_count": null,
   "id": "bc27ed74-53b4-4610-900f-03d4bdc55ed7",
   "metadata": {},
   "outputs": [],
   "source": []
  }
 ],
 "metadata": {
  "kernelspec": {
   "display_name": "Python 3 (ipykernel)",
   "language": "python",
   "name": "python3"
  },
  "language_info": {
   "codemirror_mode": {
    "name": "ipython",
    "version": 3
   },
   "file_extension": ".py",
   "mimetype": "text/x-python",
   "name": "python",
   "nbconvert_exporter": "python",
   "pygments_lexer": "ipython3",
   "version": "3.10.10"
  }
 },
 "nbformat": 4,
 "nbformat_minor": 5
}
